{
  "nbformat": 4,
  "nbformat_minor": 0,
  "metadata": {
    "colab": {
      "provenance": []
    },
    "kernelspec": {
      "name": "python3",
      "display_name": "Python 3"
    },
    "language_info": {
      "name": "python"
    }
  },
  "cells": [
    {
      "cell_type": "markdown",
      "source": [
        "Definiciones"
      ],
      "metadata": {
        "id": "rv9pZ4jhpUWq"
      }
    },
    {
      "cell_type": "code",
      "source": [
        "# Vamos a crear una definición (que es una funcion integrada en Python)\n",
        "def Milanesi(a,b,c):\n",
        "  x=a+b*c\n",
        "  return x"
      ],
      "metadata": {
        "id": "gpQ0uQGWpVi2"
      },
      "execution_count": null,
      "outputs": []
    },
    {
      "cell_type": "code",
      "source": [
        "Milanesi(1,2,3)"
      ],
      "metadata": {
        "colab": {
          "base_uri": "https://localhost:8080/"
        },
        "id": "AlOsAtZtpjmV",
        "outputId": "404d6096-7a64-4bf5-c416-ec406bc4e450"
      },
      "execution_count": null,
      "outputs": [
        {
          "output_type": "execute_result",
          "data": {
            "text/plain": [
              "7"
            ]
          },
          "metadata": {},
          "execution_count": 35
        }
      ]
    },
    {
      "cell_type": "code",
      "source": [
        "#Vamos a crear una definición que calcule la inversa de una matriz.\n",
        "def inv_matrix(M):\n",
        "    import numpy as np\n",
        "    x= np.linalg.inv(M)\n",
        "    return x"
      ],
      "metadata": {
        "id": "RW8rOvGrpmsG"
      },
      "execution_count": null,
      "outputs": []
    },
    {
      "cell_type": "code",
      "source": [
        "import numpy as np"
      ],
      "metadata": {
        "id": "aRDyVxoIseOS"
      },
      "execution_count": null,
      "outputs": []
    },
    {
      "cell_type": "code",
      "source": [
        "matriz=np.random.randint(low=0,high=20, size=(5,5))\n",
        "\n",
        "matriz\n"
      ],
      "metadata": {
        "colab": {
          "base_uri": "https://localhost:8080/"
        },
        "id": "tszOwX71siub",
        "outputId": "7c446c3e-8de1-46fc-c6e5-a41db9d519fc"
      },
      "execution_count": null,
      "outputs": [
        {
          "output_type": "execute_result",
          "data": {
            "text/plain": [
              "array([[ 8, 19,  8, 18,  3],\n",
              "       [ 7,  0,  3, 14,  8],\n",
              "       [13,  0,  8, 16,  5],\n",
              "       [ 8,  9, 15,  2, 13],\n",
              "       [12, 19, 14,  4,  0]])"
            ]
          },
          "metadata": {},
          "execution_count": 41
        }
      ]
    },
    {
      "cell_type": "code",
      "source": [
        "inv_matrix(matriz)"
      ],
      "metadata": {
        "colab": {
          "base_uri": "https://localhost:8080/"
        },
        "id": "IRi6R0Xqs52S",
        "outputId": "bf763bbf-d45b-40b8-922c-bd7913dbe129"
      },
      "execution_count": null,
      "outputs": [
        {
          "output_type": "execute_result",
          "data": {
            "text/plain": [
              "array([[-0.0390816 ,  0.03365595, -0.12355351, -0.05031438,  0.1574426 ],\n",
              "       [ 0.11354292, -0.021858  ,  0.1308301 , -0.00132815, -0.13709643],\n",
              "       [ 0.07829036, -0.08911339,  0.11030731,  0.0715083 , -0.09739315],\n",
              "       [-0.21349347,  0.15782409, -0.10625221, -0.10999647,  0.18834334],\n",
              "       [ 0.10421759, -0.08974921, -0.00385729,  0.13417167, -0.0865136 ]])"
            ]
          },
          "metadata": {},
          "execution_count": 40
        }
      ]
    }
  ]
}