{
  "nbformat": 4,
  "nbformat_minor": 0,
  "metadata": {
    "colab": {
      "provenance": []
    },
    "kernelspec": {
      "name": "python3",
      "display_name": "Python 3"
    },
    "language_info": {
      "name": "python"
    }
  },
  "cells": [
    {
      "cell_type": "code",
      "execution_count": 9,
      "metadata": {
        "id": "5ilLbMVip90X"
      },
      "outputs": [],
      "source": [
        "class Animal ():\n",
        " def __init__(self):\n",
        "  print (\"Animal class creada\")\n",
        " def guess_who(self):\n",
        "  print(\"Soy un animalito\")\n",
        " def sleep(self):\n",
        "  print(\"Estoy durmiendo\")\n"
      ]
    },
    {
      "cell_type": "code",
      "source": [
        "my_animal=Animal()"
      ],
      "metadata": {
        "colab": {
          "base_uri": "https://localhost:8080/"
        },
        "id": "WUtbNLyyroUp",
        "outputId": "aba25d0c-605f-490a-807f-705fb4666335"
      },
      "execution_count": 10,
      "outputs": [
        {
          "output_type": "stream",
          "name": "stdout",
          "text": [
            "Animal class creada\n"
          ]
        }
      ]
    },
    {
      "cell_type": "code",
      "source": [
        "my_animal.sleep()"
      ],
      "metadata": {
        "colab": {
          "base_uri": "https://localhost:8080/"
        },
        "id": "XWbdHc9XsEVt",
        "outputId": "ff96b24a-d2b9-40c5-a242-728c416682a1"
      },
      "execution_count": 11,
      "outputs": [
        {
          "output_type": "stream",
          "name": "stdout",
          "text": [
            "Estoy durmiendo\n"
          ]
        }
      ]
    },
    {
      "cell_type": "code",
      "source": [
        "class Cat(Animal):\n",
        "\n",
        "  def __init__(self):\n",
        "    Animal.__init__(self)\n",
        "    print(\"Cat class creada\")\n",
        "\n",
        "  def guess_who(self):\n",
        "    print(\"Soy un gatito\")\n",
        "\n",
        "  def meow(self):\n",
        "    print(\"MEOWW!\")"
      ],
      "metadata": {
        "id": "OvXGFDT4tucI"
      },
      "execution_count": 12,
      "outputs": []
    },
    {
      "cell_type": "code",
      "source": [
        "my_cat=Cat()"
      ],
      "metadata": {
        "colab": {
          "base_uri": "https://localhost:8080/"
        },
        "id": "8E9ChkQzv8q0",
        "outputId": "b836c5dc-ccef-43f1-b88e-c434c338f391"
      },
      "execution_count": 13,
      "outputs": [
        {
          "output_type": "stream",
          "name": "stdout",
          "text": [
            "Animal class creada\n",
            "Cat class creada\n"
          ]
        }
      ]
    },
    {
      "cell_type": "code",
      "source": [
        "my_cat.guess_who()"
      ],
      "metadata": {
        "colab": {
          "base_uri": "https://localhost:8080/"
        },
        "id": "JfgR4zgZwsXs",
        "outputId": "c34f5b30-7344-411e-c1ee-bee78ea58752"
      },
      "execution_count": 14,
      "outputs": [
        {
          "output_type": "stream",
          "name": "stdout",
          "text": [
            "Soy un gatito\n"
          ]
        }
      ]
    },
    {
      "cell_type": "code",
      "source": [
        "my_cat.meow()"
      ],
      "metadata": {
        "colab": {
          "base_uri": "https://localhost:8080/"
        },
        "id": "pkj6oPPzwv3t",
        "outputId": "48001c5c-624a-4688-d76f-74a7439f3c48"
      },
      "execution_count": 15,
      "outputs": [
        {
          "output_type": "stream",
          "name": "stdout",
          "text": [
            "MEOWW!\n"
          ]
        }
      ]
    },
    {
      "cell_type": "code",
      "source": [
        "class Doggy():\n",
        "  def __init__(self, name, raza):\n",
        "    self.name=name\n",
        "    self.raza=raza\n",
        "\n",
        "  def speak(self):\n",
        "    return self.name + \"dice WOOF\""
      ],
      "metadata": {
        "id": "UtwS2gooxHuF"
      },
      "execution_count": 24,
      "outputs": []
    },
    {
      "cell_type": "code",
      "source": [
        "class Catty():\n",
        "\n",
        "  def __init__(self,name, raza, tamano):\n",
        "    self.name=name\n",
        "    self.name=raza\n",
        "    self.tamano = tamano\n",
        "\n",
        "  def speak(self):\n",
        "    return self.name + \"says MEOW\""
      ],
      "metadata": {
        "id": "qfAWGiRHyid5"
      },
      "execution_count": 25,
      "outputs": []
    },
    {
      "cell_type": "code",
      "source": [
        "my_dog =Doggy(\"Buzz\", \"Dalmata\")\n",
        "my_cat =Catty(\"Tom\", \"Egipcio\", \"Pequeño\")"
      ],
      "metadata": {
        "id": "l1IotJkTytDQ"
      },
      "execution_count": 27,
      "outputs": []
    },
    {
      "cell_type": "code",
      "source": [
        "my_cat.tamano"
      ],
      "metadata": {
        "colab": {
          "base_uri": "https://localhost:8080/",
          "height": 35
        },
        "id": "n7O1fc3YzXnB",
        "outputId": "f2558728-9040-40b0-cd42-8cb34a47247d"
      },
      "execution_count": 29,
      "outputs": [
        {
          "output_type": "execute_result",
          "data": {
            "text/plain": [
              "'Pequeño'"
            ],
            "application/vnd.google.colaboratory.intrinsic+json": {
              "type": "string"
            }
          },
          "metadata": {},
          "execution_count": 29
        }
      ]
    },
    {
      "cell_type": "code",
      "source": [
        "my_dog.raza"
      ],
      "metadata": {
        "colab": {
          "base_uri": "https://localhost:8080/",
          "height": 35
        },
        "id": "OQoJe7-l1H8A",
        "outputId": "d5be3c42-821f-486a-a94c-54c50bd8399a"
      },
      "execution_count": 30,
      "outputs": [
        {
          "output_type": "execute_result",
          "data": {
            "text/plain": [
              "'Dalmata'"
            ],
            "application/vnd.google.colaboratory.intrinsic+json": {
              "type": "string"
            }
          },
          "metadata": {},
          "execution_count": 30
        }
      ]
    },
    {
      "cell_type": "code",
      "source": [
        "class Jugadores():\n",
        "\n",
        "  def __init__(self,name, equipo, pais, goles):\n",
        "    self.name=name\n",
        "    self.equipo=equipo\n",
        "    self.pais = pais\n",
        "    self.goles = goles\n"
      ],
      "metadata": {
        "id": "JaZHM6xy1O-I"
      },
      "execution_count": 43,
      "outputs": []
    },
    {
      "cell_type": "code",
      "source": [
        "jugadores = Jugadores(\"Messi\", \"BArcelona\", \"Argentina\",\"82\")"
      ],
      "metadata": {
        "id": "hHpTVL1V2oej"
      },
      "execution_count": 44,
      "outputs": []
    },
    {
      "cell_type": "code",
      "source": [
        "jugadores.goles"
      ],
      "metadata": {
        "colab": {
          "base_uri": "https://localhost:8080/",
          "height": 35
        },
        "id": "Om89QOF320Dd",
        "outputId": "8b471023-ea1a-45e0-c9f9-48bbba1e08dd"
      },
      "execution_count": 45,
      "outputs": [
        {
          "output_type": "execute_result",
          "data": {
            "text/plain": [
              "'82'"
            ],
            "application/vnd.google.colaboratory.intrinsic+json": {
              "type": "string"
            }
          },
          "metadata": {},
          "execution_count": 45
        }
      ]
    },
    {
      "cell_type": "code",
      "source": [],
      "metadata": {
        "id": "0DlyFgI03N9h"
      },
      "execution_count": null,
      "outputs": []
    }
  ]
}