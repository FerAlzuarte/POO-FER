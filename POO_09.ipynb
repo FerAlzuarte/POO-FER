{
  "nbformat": 4,
  "nbformat_minor": 0,
  "metadata": {
    "colab": {
      "provenance": []
    },
    "kernelspec": {
      "name": "python3",
      "display_name": "Python 3"
    },
    "language_info": {
      "name": "python"
    }
  },
  "cells": [
    {
      "cell_type": "markdown",
      "source": [
        "## Abstract classes and inheritance\n",
        "\n",
        "Abstract classes are never expected to be instantiated. An instance of such a class is never expected to be made. It is designed to only serve as a base class.\n",
        "\n",
        "Crearemos una clase llamada Adele cuyos argumentos son:\n",
        "- Nombre\n",
        "- guess_who\n",
        "- Grammys"
      ],
      "metadata": {
        "id": "TcFNM3wPsAmZ"
      }
    },
    {
      "cell_type": "code",
      "source": [
        "class Adele():\n",
        "\n",
        "    def __init__(self):\n",
        "        print(\"La clase Adele se ha creado\")\n",
        "\n",
        "    def guess_who(self):    #cuando ponga Adele.guess_who() te va a decir \"yo soy Adele\"\n",
        "        print(\"Yo soy Adele\")\n",
        "\n",
        "    def goles(self):\n",
        "        print(\"Llevo 25 grammys de 2009 a 2023\")"
      ],
      "metadata": {
        "id": "QzgCKkrKr7dP"
      },
      "execution_count": null,
      "outputs": []
    },
    {
      "cell_type": "code",
      "source": [
        "adele = Adele() # cursor dentro de la clase creada (si dice main es que es una clase creada)\n",
        "adele"
      ],
      "metadata": {
        "colab": {
          "base_uri": "https://localhost:8080/"
        },
        "id": "RE5zP-AdsLBn",
        "outputId": "96a88635-6716-4d8c-d265-5ce1491b8f4e"
      },
      "execution_count": null,
      "outputs": [
        {
          "output_type": "stream",
          "name": "stdout",
          "text": [
            "La clase Adele se ha creado\n"
          ]
        },
        {
          "output_type": "execute_result",
          "data": {
            "text/plain": [
              "<__main__.Adele at 0x7f9a7a403fd0>"
            ]
          },
          "metadata": {},
          "execution_count": 11
        }
      ]
    },
    {
      "cell_type": "code",
      "source": [
        "adele.guess_who()"
      ],
      "metadata": {
        "colab": {
          "base_uri": "https://localhost:8080/"
        },
        "id": "9NJLXf1EsMLW",
        "outputId": "87915cde-5489-4162-87e7-65c020a93f16"
      },
      "execution_count": null,
      "outputs": [
        {
          "output_type": "stream",
          "name": "stdout",
          "text": [
            "Yo soy Adele\n"
          ]
        }
      ]
    },
    {
      "cell_type": "code",
      "source": [
        "adele.goles()"
      ],
      "metadata": {
        "colab": {
          "base_uri": "https://localhost:8080/"
        },
        "id": "gZW3NDtjsVBi",
        "outputId": "4937ed5f-f9d9-425a-8914-6cb6477bbd57"
      },
      "execution_count": null,
      "outputs": [
        {
          "output_type": "stream",
          "name": "stdout",
          "text": [
            "Llevo 25 grammys de 2009 a 2023\n"
          ]
        }
      ]
    },
    {
      "cell_type": "code",
      "source": [
        "# Ahora creamos una nueva clase con polimorfismos para Adele\n",
        "class Adele_grammy():\n",
        "\n",
        "    def __init__(self, name, grammys, discos):\n",
        "        self.name = name\n",
        "        self.grammys = grammys\n",
        "        self.discos = discos\n",
        "\n",
        "    def nombre(self):\n",
        "        return self.name + \"soy Adele\"\n",
        "\n",
        "    def goles(self):\n",
        "        return self.grammys + \"25\"\n",
        "\n",
        "    def campeonatos(self):\n",
        "        return self.discos + \"8 discos en total\""
      ],
      "metadata": {
        "id": "jjUDAq2TsW06"
      },
      "execution_count": null,
      "outputs": []
    },
    {
      "cell_type": "code",
      "source": [
        "adele = Adele_grammy(\"Adele\", 25, 8)\n",
        "adele"
      ],
      "metadata": {
        "colab": {
          "base_uri": "https://localhost:8080/"
        },
        "id": "aD2FiPpOsgQo",
        "outputId": "4ad8dab1-46bc-49a2-f9b2-7b3e2dea2335"
      },
      "execution_count": null,
      "outputs": [
        {
          "output_type": "execute_result",
          "data": {
            "text/plain": [
              "<__main__.Adele_grammy at 0x7f9a7a400670>"
            ]
          },
          "metadata": {},
          "execution_count": 18
        }
      ]
    },
    {
      "cell_type": "code",
      "source": [
        "adele.name"
      ],
      "metadata": {
        "colab": {
          "base_uri": "https://localhost:8080/",
          "height": 35
        },
        "id": "Myhyno12sizL",
        "outputId": "d9eed291-10e5-430e-a2f2-0e4a33f764bf"
      },
      "execution_count": null,
      "outputs": [
        {
          "output_type": "execute_result",
          "data": {
            "text/plain": [
              "'Adele'"
            ],
            "application/vnd.google.colaboratory.intrinsic+json": {
              "type": "string"
            }
          },
          "metadata": {},
          "execution_count": 19
        }
      ]
    },
    {
      "cell_type": "code",
      "source": [
        "adele.grammys"
      ],
      "metadata": {
        "colab": {
          "base_uri": "https://localhost:8080/"
        },
        "id": "44d93mOksl4e",
        "outputId": "4ecfa9b0-0227-4d36-bf0f-5b6927c1d871"
      },
      "execution_count": null,
      "outputs": [
        {
          "output_type": "execute_result",
          "data": {
            "text/plain": [
              "25"
            ]
          },
          "metadata": {},
          "execution_count": 21
        }
      ]
    },
    {
      "cell_type": "code",
      "source": [
        "adele.discos"
      ],
      "metadata": {
        "colab": {
          "base_uri": "https://localhost:8080/"
        },
        "id": "4k_C-vplsrB4",
        "outputId": "e6e7be1e-d7d7-4639-9bcd-3aba040cefa7"
      },
      "execution_count": null,
      "outputs": [
        {
          "output_type": "execute_result",
          "data": {
            "text/plain": [
              "8"
            ]
          },
          "metadata": {},
          "execution_count": 22
        }
      ]
    },
    {
      "cell_type": "markdown",
      "source": [
        "## Un ejemplo financiero"
      ],
      "metadata": {
        "id": "XgjbArgHu72B"
      }
    },
    {
      "cell_type": "code",
      "source": [
        "from abc import ABC,abstractmethod\n",
        "from scipy.stats import norm\n",
        "import numpy as np"
      ],
      "metadata": {
        "id": "NkVfyl7Vst1t"
      },
      "execution_count": null,
      "outputs": []
    },
    {
      "cell_type": "markdown",
      "source": [
        "# ¿Qué es el Strike Price?\n",
        "\n",
        "El strike Price es el precio al cual se ejerce la opción call o put al vencimiento de dicho contrato. Una opción es un contrato que otorga a su comprador el derecho, pero no la obligación, a comprar o vender una determinada cuantía del activo subyacente, a un precio determinado llamado precio de ejercicio, en un período de tiempo estipulado o vencimiento.\n",
        "\n",
        "En opciones, al ser contratos y no valores, no es necesario comprar primero para posteriormente vender, sino que es posible vender primero y en su caso luego comprar. Por ello es fundamental distinguir entre la situación del comprador y la del vendedor.\n",
        "\n",
        "El comprador de una opción tiene el derecho, pero no la obligación, de comprar o vender (según el tipo) al vencimiento; por el contrario, el vendedor de la opción está obligado a comprar o vender si el comprador decide ejercer su derecho. Llegada la fecha de vencimiento, el comprador decidirá si le interesa o no ejercitar su derecho, en función de la diferencia entre el precio fijado para la operación (precio de ejercicio o strike) y el precio que en ese momento tenga el subyacente en el mercado de contado (en el caso de acciones, su cotización).\n",
        "\n",
        "El precio de la opción es lo que el comprador paga por obtener ese derecho y se denomina prima. La prima es realmente el objeto de negociación. El comprador de opciones sólo tiene derechos y ninguna obligación, por tanto, sus pérdidas están limitadas a la prima pagada —con esta posición ha vendido el riesgo a un tercero—.\n",
        "\n",
        "Por el contrario, el vendedor de opciones cobra la prima, pero sólo tiene obligaciones y asume la posibilidad de tener que soportar pérdidas ilimitadas. Por tanto, el vendedor de la opción siempre se queda con la prima, se ejerza o no la opción e independientemente de las pérdidas finales que le pueda ocasionar el haber comprado el riesgo a otro agente.\n",
        "\n",
        "---\n"
      ],
      "metadata": {
        "id": "qNTscgYUvEay"
      }
    },
    {
      "cell_type": "markdown",
      "source": [
        "## Opciones de compra-Opciones call\n",
        "\n",
        "El comprador adquiere el derecho, aunque no la obligación, a comprar el subyacente a un precio determinado en la fecha de vencimiento establecida, mientras que el vendedor de call asume esa obligación. Cuando un inversor compra una opción call espera que el valor del subyacente suba en los mercados; es decir, tiene expectativas alcistas. Si llegada la fecha de vencimiento, su apuesta resulta acertada y el precio del subyacente es superior al precio de ejercicio fijado en el contrato, le interesará ejercer la opción, ya que puede comprar el activo subyacente más barato. Por el contrario, si el precio no sube como esperaba y el precio de ejercicio es mayor que el del subyacente, no ejercerá la opción y perderá la inversión realizada, es decir, la prima.\n",
        "\n",
        "---"
      ],
      "metadata": {
        "id": "skl63IYlvIqu"
      }
    },
    {
      "cell_type": "markdown",
      "source": [
        "## Opción de venta o put\n",
        "\n",
        "En una opción de venta u opción put, el comprador tiene el derecho, aunque no la obligación de vender el subyacente a un precio fijado, en la fecha de vencimiento. El vendedor de put asume esa obligación.\n",
        "\n",
        "La compra de una opción put está justificada cuando el inversor tiene expectativas bajistas. Si el precio del subyacente disminuye, le interesará ejercer la opción y vender al precio de ejercicio, que es superior. En caso contrario, no la ejercerá y perderá la prima.\n",
        "\n",
        "---"
      ],
      "metadata": {
        "id": "96YIhFFPvLpU"
      }
    },
    {
      "cell_type": "markdown",
      "source": [
        "## Black-Scholes\n",
        "\n",
        "https://es.wikipedia.org/wiki/Modelo_de_Black-Scholes\n",
        "\n",
        "\n",
        "\n",
        "---\n",
        "\n"
      ],
      "metadata": {
        "id": "rFA9-afnvQNA"
      }
    },
    {
      "cell_type": "code",
      "source": [
        "class Model(ABC):\n",
        "    def opcion_precio_europea(self,S0, K, T,CP,t=0):\n",
        "        '''\n",
        "        #Inputs:\n",
        "        S0: precio stock inicial\n",
        "        K: strike\n",
        "        T: tiempo de vencimiento\n",
        "        CP: 1 for call, -1 for put\n",
        "        '''\n",
        "        pass # Al usar la instrucción pass en este programa, observamos que el programa se ejecuta exactamente como lo haría si no hubiera instrucción condicional en el programa.\n",
        "             # La instrucción pass le indica al programa que ignore esa condición y continúe ejecutando el programa como de costumbre.\n",
        "             # La instrucción pass puede crear clases mínimas o actuar como marcador de posición al trabajar en un nuevo código y pensar en un nivel de algoritmo antes de preparar detalles.\n",
        "\n",
        "\n",
        "\n",
        "class Black_Scholes(Model):\n",
        "    def __init__(self,sigma):\n",
        "        self.sigma=sigma\n",
        "\n",
        "    def opcion_precio_europea(self, S0, K, CP, T,t=0):\n",
        "        tau = T - t\n",
        "        sigmtau = self.sigma*np.sqrt(tau)\n",
        "        k = np.log(K/S0)\n",
        "        dp = -k / sigmtau + 0.5*sigmtau\n",
        "        dm = dp - sigmtau\n",
        "        return S0*(CP*norm.cdf(CP*dp) - CP*np.exp(k)*norm.cdf(CP*dm))"
      ],
      "metadata": {
        "id": "EjWG-tYKu-t0"
      },
      "execution_count": null,
      "outputs": []
    },
    {
      "cell_type": "code",
      "source": [
        "BS_model=Black_Scholes(sigma=0.2)\n",
        "BS_model.opcion_precio_europea(S0=100,K=90,CP=-1,T=0.25)"
      ],
      "metadata": {
        "colab": {
          "base_uri": "https://localhost:8080/"
        },
        "id": "13u4ElNNvZVU",
        "outputId": "c93401de-c980-4b84-cb2c-671876cc8ccb"
      },
      "execution_count": null,
      "outputs": [
        {
          "output_type": "execute_result",
          "data": {
            "text/plain": [
              "0.7123808960736666"
            ]
          },
          "metadata": {},
          "execution_count": 25
        }
      ]
    },
    {
      "cell_type": "markdown",
      "source": [
        "\n",
        "\n",
        "---\n",
        "## Hacia Portafolios\n"
      ],
      "metadata": {
        "id": "WmrGDo2yve6y"
      }
    },
    {
      "cell_type": "code",
      "source": [
        "from datetime import datetime\n",
        "\n",
        "import yfinance as yf\n",
        "\n",
        "class Asset:\n",
        "    def __init__(self, ticker, start_date, end_date = datetime.today().strftime('%Y-%m-%d')):\n",
        "        self.ticker = ticker\n",
        "        self.start_date = start_date\n",
        "        self.end_date = end_date\n",
        "\n",
        "    def get_data(self):\n",
        "        df = yf.download(self.ticker, start = self.start_date, end = self.end_date)\n",
        "        return df\n",
        "\n",
        "    def  simple_returns(self, adj = False, cum = False):\n",
        "        df = self.get_data()\n",
        "        if adj:\n",
        "            simple_returns = df[\"Adj Close\"].pct_change().dropna()\n",
        "        else:\n",
        "            simple_returns = df[\"Close\"].pct_change().dropna()\n",
        "        if cum:\n",
        "            simple_returns = (1 + simple_returns).cumprod() - 1\n",
        "        return simple_returns"
      ],
      "metadata": {
        "id": "ZjArfpizvb71"
      },
      "execution_count": null,
      "outputs": []
    },
    {
      "cell_type": "code",
      "source": [
        "asset = Asset(\"IBM\", 2010-1-1) #cursor"
      ],
      "metadata": {
        "id": "TzIRgEN6vi08"
      },
      "execution_count": null,
      "outputs": []
    },
    {
      "cell_type": "code",
      "source": [
        "asset.get_data()"
      ],
      "metadata": {
        "colab": {
          "base_uri": "https://localhost:8080/",
          "height": 472
        },
        "id": "ipp5V9clvmtH",
        "outputId": "4b5bc795-8b20-480b-f88f-c33eff89fb23"
      },
      "execution_count": null,
      "outputs": [
        {
          "output_type": "stream",
          "name": "stdout",
          "text": [
            "\r[*********************100%%**********************]  1 of 1 completed\n"
          ]
        },
        {
          "output_type": "execute_result",
          "data": {
            "text/plain": [
              "                  Open        High         Low       Close   Adj Close  \\\n",
              "Date                                                                     \n",
              "1970-01-02   17.423517   17.483271   17.399618   17.435469    3.856880   \n",
              "1970-01-05   17.495220   17.602772   17.495220   17.602772    3.893892   \n",
              "1970-01-06   17.602772   17.638622   17.507170   17.614723    3.896540   \n",
              "1970-01-07   17.614723   17.626673   17.507170   17.626673    3.899180   \n",
              "1970-01-08   17.626673   17.662523   17.566921   17.662523    3.907112   \n",
              "...                ...         ...         ...         ...         ...   \n",
              "2023-09-12  147.919998  148.000000  145.800003  146.300003  146.300003   \n",
              "2023-09-13  145.949997  146.979996  145.919998  146.550003  146.550003   \n",
              "2023-09-14  147.380005  147.729996  146.479996  147.350006  147.350006   \n",
              "2023-09-15  147.110001  147.850006  145.529999  145.990005  145.990005   \n",
              "2023-09-18  145.770004  146.479996  145.059998  145.089996  145.089996   \n",
              "\n",
              "             Volume  \n",
              "Date                 \n",
              "1970-01-02   330536  \n",
              "1970-01-05   443504  \n",
              "1970-01-06   510448  \n",
              "1970-01-07   479068  \n",
              "1970-01-08   740568  \n",
              "...             ...  \n",
              "2023-09-12  4457700  \n",
              "2023-09-13  2627800  \n",
              "2023-09-14  2723100  \n",
              "2023-09-15  6231400  \n",
              "2023-09-18  2507700  \n",
              "\n",
              "[13547 rows x 6 columns]"
            ],
            "text/html": [
              "\n",
              "  <div id=\"df-78c3da16-c1ce-4da3-90cd-fb2cdfad71ef\" class=\"colab-df-container\">\n",
              "    <div>\n",
              "<style scoped>\n",
              "    .dataframe tbody tr th:only-of-type {\n",
              "        vertical-align: middle;\n",
              "    }\n",
              "\n",
              "    .dataframe tbody tr th {\n",
              "        vertical-align: top;\n",
              "    }\n",
              "\n",
              "    .dataframe thead th {\n",
              "        text-align: right;\n",
              "    }\n",
              "</style>\n",
              "<table border=\"1\" class=\"dataframe\">\n",
              "  <thead>\n",
              "    <tr style=\"text-align: right;\">\n",
              "      <th></th>\n",
              "      <th>Open</th>\n",
              "      <th>High</th>\n",
              "      <th>Low</th>\n",
              "      <th>Close</th>\n",
              "      <th>Adj Close</th>\n",
              "      <th>Volume</th>\n",
              "    </tr>\n",
              "    <tr>\n",
              "      <th>Date</th>\n",
              "      <th></th>\n",
              "      <th></th>\n",
              "      <th></th>\n",
              "      <th></th>\n",
              "      <th></th>\n",
              "      <th></th>\n",
              "    </tr>\n",
              "  </thead>\n",
              "  <tbody>\n",
              "    <tr>\n",
              "      <th>1970-01-02</th>\n",
              "      <td>17.423517</td>\n",
              "      <td>17.483271</td>\n",
              "      <td>17.399618</td>\n",
              "      <td>17.435469</td>\n",
              "      <td>3.856880</td>\n",
              "      <td>330536</td>\n",
              "    </tr>\n",
              "    <tr>\n",
              "      <th>1970-01-05</th>\n",
              "      <td>17.495220</td>\n",
              "      <td>17.602772</td>\n",
              "      <td>17.495220</td>\n",
              "      <td>17.602772</td>\n",
              "      <td>3.893892</td>\n",
              "      <td>443504</td>\n",
              "    </tr>\n",
              "    <tr>\n",
              "      <th>1970-01-06</th>\n",
              "      <td>17.602772</td>\n",
              "      <td>17.638622</td>\n",
              "      <td>17.507170</td>\n",
              "      <td>17.614723</td>\n",
              "      <td>3.896540</td>\n",
              "      <td>510448</td>\n",
              "    </tr>\n",
              "    <tr>\n",
              "      <th>1970-01-07</th>\n",
              "      <td>17.614723</td>\n",
              "      <td>17.626673</td>\n",
              "      <td>17.507170</td>\n",
              "      <td>17.626673</td>\n",
              "      <td>3.899180</td>\n",
              "      <td>479068</td>\n",
              "    </tr>\n",
              "    <tr>\n",
              "      <th>1970-01-08</th>\n",
              "      <td>17.626673</td>\n",
              "      <td>17.662523</td>\n",
              "      <td>17.566921</td>\n",
              "      <td>17.662523</td>\n",
              "      <td>3.907112</td>\n",
              "      <td>740568</td>\n",
              "    </tr>\n",
              "    <tr>\n",
              "      <th>...</th>\n",
              "      <td>...</td>\n",
              "      <td>...</td>\n",
              "      <td>...</td>\n",
              "      <td>...</td>\n",
              "      <td>...</td>\n",
              "      <td>...</td>\n",
              "    </tr>\n",
              "    <tr>\n",
              "      <th>2023-09-12</th>\n",
              "      <td>147.919998</td>\n",
              "      <td>148.000000</td>\n",
              "      <td>145.800003</td>\n",
              "      <td>146.300003</td>\n",
              "      <td>146.300003</td>\n",
              "      <td>4457700</td>\n",
              "    </tr>\n",
              "    <tr>\n",
              "      <th>2023-09-13</th>\n",
              "      <td>145.949997</td>\n",
              "      <td>146.979996</td>\n",
              "      <td>145.919998</td>\n",
              "      <td>146.550003</td>\n",
              "      <td>146.550003</td>\n",
              "      <td>2627800</td>\n",
              "    </tr>\n",
              "    <tr>\n",
              "      <th>2023-09-14</th>\n",
              "      <td>147.380005</td>\n",
              "      <td>147.729996</td>\n",
              "      <td>146.479996</td>\n",
              "      <td>147.350006</td>\n",
              "      <td>147.350006</td>\n",
              "      <td>2723100</td>\n",
              "    </tr>\n",
              "    <tr>\n",
              "      <th>2023-09-15</th>\n",
              "      <td>147.110001</td>\n",
              "      <td>147.850006</td>\n",
              "      <td>145.529999</td>\n",
              "      <td>145.990005</td>\n",
              "      <td>145.990005</td>\n",
              "      <td>6231400</td>\n",
              "    </tr>\n",
              "    <tr>\n",
              "      <th>2023-09-18</th>\n",
              "      <td>145.770004</td>\n",
              "      <td>146.479996</td>\n",
              "      <td>145.059998</td>\n",
              "      <td>145.089996</td>\n",
              "      <td>145.089996</td>\n",
              "      <td>2507700</td>\n",
              "    </tr>\n",
              "  </tbody>\n",
              "</table>\n",
              "<p>13547 rows × 6 columns</p>\n",
              "</div>\n",
              "    <div class=\"colab-df-buttons\">\n",
              "\n",
              "  <div class=\"colab-df-container\">\n",
              "    <button class=\"colab-df-convert\" onclick=\"convertToInteractive('df-78c3da16-c1ce-4da3-90cd-fb2cdfad71ef')\"\n",
              "            title=\"Convert this dataframe to an interactive table.\"\n",
              "            style=\"display:none;\">\n",
              "\n",
              "  <svg xmlns=\"http://www.w3.org/2000/svg\" height=\"24px\" viewBox=\"0 -960 960 960\">\n",
              "    <path d=\"M120-120v-720h720v720H120Zm60-500h600v-160H180v160Zm220 220h160v-160H400v160Zm0 220h160v-160H400v160ZM180-400h160v-160H180v160Zm440 0h160v-160H620v160ZM180-180h160v-160H180v160Zm440 0h160v-160H620v160Z\"/>\n",
              "  </svg>\n",
              "    </button>\n",
              "\n",
              "  <style>\n",
              "    .colab-df-container {\n",
              "      display:flex;\n",
              "      gap: 12px;\n",
              "    }\n",
              "\n",
              "    .colab-df-convert {\n",
              "      background-color: #E8F0FE;\n",
              "      border: none;\n",
              "      border-radius: 50%;\n",
              "      cursor: pointer;\n",
              "      display: none;\n",
              "      fill: #1967D2;\n",
              "      height: 32px;\n",
              "      padding: 0 0 0 0;\n",
              "      width: 32px;\n",
              "    }\n",
              "\n",
              "    .colab-df-convert:hover {\n",
              "      background-color: #E2EBFA;\n",
              "      box-shadow: 0px 1px 2px rgba(60, 64, 67, 0.3), 0px 1px 3px 1px rgba(60, 64, 67, 0.15);\n",
              "      fill: #174EA6;\n",
              "    }\n",
              "\n",
              "    .colab-df-buttons div {\n",
              "      margin-bottom: 4px;\n",
              "    }\n",
              "\n",
              "    [theme=dark] .colab-df-convert {\n",
              "      background-color: #3B4455;\n",
              "      fill: #D2E3FC;\n",
              "    }\n",
              "\n",
              "    [theme=dark] .colab-df-convert:hover {\n",
              "      background-color: #434B5C;\n",
              "      box-shadow: 0px 1px 3px 1px rgba(0, 0, 0, 0.15);\n",
              "      filter: drop-shadow(0px 1px 2px rgba(0, 0, 0, 0.3));\n",
              "      fill: #FFFFFF;\n",
              "    }\n",
              "  </style>\n",
              "\n",
              "    <script>\n",
              "      const buttonEl =\n",
              "        document.querySelector('#df-78c3da16-c1ce-4da3-90cd-fb2cdfad71ef button.colab-df-convert');\n",
              "      buttonEl.style.display =\n",
              "        google.colab.kernel.accessAllowed ? 'block' : 'none';\n",
              "\n",
              "      async function convertToInteractive(key) {\n",
              "        const element = document.querySelector('#df-78c3da16-c1ce-4da3-90cd-fb2cdfad71ef');\n",
              "        const dataTable =\n",
              "          await google.colab.kernel.invokeFunction('convertToInteractive',\n",
              "                                                    [key], {});\n",
              "        if (!dataTable) return;\n",
              "\n",
              "        const docLinkHtml = 'Like what you see? Visit the ' +\n",
              "          '<a target=\"_blank\" href=https://colab.research.google.com/notebooks/data_table.ipynb>data table notebook</a>'\n",
              "          + ' to learn more about interactive tables.';\n",
              "        element.innerHTML = '';\n",
              "        dataTable['output_type'] = 'display_data';\n",
              "        await google.colab.output.renderOutput(dataTable, element);\n",
              "        const docLink = document.createElement('div');\n",
              "        docLink.innerHTML = docLinkHtml;\n",
              "        element.appendChild(docLink);\n",
              "      }\n",
              "    </script>\n",
              "  </div>\n",
              "\n",
              "\n",
              "<div id=\"df-34dc9980-b166-4dc1-bd09-332bd586ce0c\">\n",
              "  <button class=\"colab-df-quickchart\" onclick=\"quickchart('df-34dc9980-b166-4dc1-bd09-332bd586ce0c')\"\n",
              "            title=\"Suggest charts.\"\n",
              "            style=\"display:none;\">\n",
              "\n",
              "<svg xmlns=\"http://www.w3.org/2000/svg\" height=\"24px\"viewBox=\"0 0 24 24\"\n",
              "     width=\"24px\">\n",
              "    <g>\n",
              "        <path d=\"M19 3H5c-1.1 0-2 .9-2 2v14c0 1.1.9 2 2 2h14c1.1 0 2-.9 2-2V5c0-1.1-.9-2-2-2zM9 17H7v-7h2v7zm4 0h-2V7h2v10zm4 0h-2v-4h2v4z\"/>\n",
              "    </g>\n",
              "</svg>\n",
              "  </button>\n",
              "\n",
              "<style>\n",
              "  .colab-df-quickchart {\n",
              "      --bg-color: #E8F0FE;\n",
              "      --fill-color: #1967D2;\n",
              "      --hover-bg-color: #E2EBFA;\n",
              "      --hover-fill-color: #174EA6;\n",
              "      --disabled-fill-color: #AAA;\n",
              "      --disabled-bg-color: #DDD;\n",
              "  }\n",
              "\n",
              "  [theme=dark] .colab-df-quickchart {\n",
              "      --bg-color: #3B4455;\n",
              "      --fill-color: #D2E3FC;\n",
              "      --hover-bg-color: #434B5C;\n",
              "      --hover-fill-color: #FFFFFF;\n",
              "      --disabled-bg-color: #3B4455;\n",
              "      --disabled-fill-color: #666;\n",
              "  }\n",
              "\n",
              "  .colab-df-quickchart {\n",
              "    background-color: var(--bg-color);\n",
              "    border: none;\n",
              "    border-radius: 50%;\n",
              "    cursor: pointer;\n",
              "    display: none;\n",
              "    fill: var(--fill-color);\n",
              "    height: 32px;\n",
              "    padding: 0;\n",
              "    width: 32px;\n",
              "  }\n",
              "\n",
              "  .colab-df-quickchart:hover {\n",
              "    background-color: var(--hover-bg-color);\n",
              "    box-shadow: 0 1px 2px rgba(60, 64, 67, 0.3), 0 1px 3px 1px rgba(60, 64, 67, 0.15);\n",
              "    fill: var(--button-hover-fill-color);\n",
              "  }\n",
              "\n",
              "  .colab-df-quickchart-complete:disabled,\n",
              "  .colab-df-quickchart-complete:disabled:hover {\n",
              "    background-color: var(--disabled-bg-color);\n",
              "    fill: var(--disabled-fill-color);\n",
              "    box-shadow: none;\n",
              "  }\n",
              "\n",
              "  .colab-df-spinner {\n",
              "    border: 2px solid var(--fill-color);\n",
              "    border-color: transparent;\n",
              "    border-bottom-color: var(--fill-color);\n",
              "    animation:\n",
              "      spin 1s steps(1) infinite;\n",
              "  }\n",
              "\n",
              "  @keyframes spin {\n",
              "    0% {\n",
              "      border-color: transparent;\n",
              "      border-bottom-color: var(--fill-color);\n",
              "      border-left-color: var(--fill-color);\n",
              "    }\n",
              "    20% {\n",
              "      border-color: transparent;\n",
              "      border-left-color: var(--fill-color);\n",
              "      border-top-color: var(--fill-color);\n",
              "    }\n",
              "    30% {\n",
              "      border-color: transparent;\n",
              "      border-left-color: var(--fill-color);\n",
              "      border-top-color: var(--fill-color);\n",
              "      border-right-color: var(--fill-color);\n",
              "    }\n",
              "    40% {\n",
              "      border-color: transparent;\n",
              "      border-right-color: var(--fill-color);\n",
              "      border-top-color: var(--fill-color);\n",
              "    }\n",
              "    60% {\n",
              "      border-color: transparent;\n",
              "      border-right-color: var(--fill-color);\n",
              "    }\n",
              "    80% {\n",
              "      border-color: transparent;\n",
              "      border-right-color: var(--fill-color);\n",
              "      border-bottom-color: var(--fill-color);\n",
              "    }\n",
              "    90% {\n",
              "      border-color: transparent;\n",
              "      border-bottom-color: var(--fill-color);\n",
              "    }\n",
              "  }\n",
              "</style>\n",
              "\n",
              "  <script>\n",
              "    async function quickchart(key) {\n",
              "      const quickchartButtonEl =\n",
              "        document.querySelector('#' + key + ' button');\n",
              "      quickchartButtonEl.disabled = true;  // To prevent multiple clicks.\n",
              "      quickchartButtonEl.classList.add('colab-df-spinner');\n",
              "      try {\n",
              "        const charts = await google.colab.kernel.invokeFunction(\n",
              "            'suggestCharts', [key], {});\n",
              "      } catch (error) {\n",
              "        console.error('Error during call to suggestCharts:', error);\n",
              "      }\n",
              "      quickchartButtonEl.classList.remove('colab-df-spinner');\n",
              "      quickchartButtonEl.classList.add('colab-df-quickchart-complete');\n",
              "    }\n",
              "    (() => {\n",
              "      let quickchartButtonEl =\n",
              "        document.querySelector('#df-34dc9980-b166-4dc1-bd09-332bd586ce0c button');\n",
              "      quickchartButtonEl.style.display =\n",
              "        google.colab.kernel.accessAllowed ? 'block' : 'none';\n",
              "    })();\n",
              "  </script>\n",
              "</div>\n",
              "    </div>\n",
              "  </div>\n"
            ]
          },
          "metadata": {},
          "execution_count": 28
        }
      ]
    },
    {
      "cell_type": "code",
      "source": [
        "asset.simple_returns()"
      ],
      "metadata": {
        "colab": {
          "base_uri": "https://localhost:8080/"
        },
        "id": "vU2KfsYvvojT",
        "outputId": "89de28fe-8b38-42d3-f5eb-4bd99ed31748"
      },
      "execution_count": null,
      "outputs": [
        {
          "output_type": "stream",
          "name": "stdout",
          "text": [
            "\r[*********************100%%**********************]  1 of 1 completed\n"
          ]
        },
        {
          "output_type": "execute_result",
          "data": {
            "text/plain": [
              "Date\n",
              "1970-01-05    0.009596\n",
              "1970-01-06    0.000679\n",
              "1970-01-07    0.000678\n",
              "1970-01-08    0.002034\n",
              "1970-01-09   -0.001353\n",
              "                ...   \n",
              "2023-09-12   -0.014018\n",
              "2023-09-13    0.001709\n",
              "2023-09-14    0.005459\n",
              "2023-09-15   -0.009230\n",
              "2023-09-18   -0.006165\n",
              "Name: Close, Length: 13546, dtype: float64"
            ]
          },
          "metadata": {},
          "execution_count": 29
        }
      ]
    },
    {
      "cell_type": "code",
      "source": [],
      "metadata": {
        "id": "9M_7IWFQwNsB"
      },
      "execution_count": null,
      "outputs": []
    }
  ]
}