{
  "nbformat": 4,
  "nbformat_minor": 0,
  "metadata": {
    "colab": {
      "provenance": []
    },
    "kernelspec": {
      "name": "python3",
      "display_name": "Python 3"
    },
    "language_info": {
      "name": "python"
    }
  },
  "cells": [
    {
      "cell_type": "markdown",
      "source": [
        "## Condicionales\n",
        "\n"
      ],
      "metadata": {
        "id": "pb9KbM6uYZJx"
      }
    },
    {
      "cell_type": "code",
      "source": [
        "#Ejemplo\n",
        "\n",
        "x = 13\n",
        "\n",
        "if x %2 ==0:\n",
        "  if x>10:\n",
        "    print(\"El número es par y es mayor a 10\")\n",
        "  else:\n",
        "    print(\"El número es par pero no es mayor a 10\")\n",
        "else:\n",
        "  print(\"El número no es par\")"
      ],
      "metadata": {
        "colab": {
          "base_uri": "https://localhost:8080/"
        },
        "id": "lxlHmupLZLDk",
        "outputId": "5a1285ad-f2cf-481a-f43f-05a3b50918aa"
      },
      "execution_count": null,
      "outputs": [
        {
          "output_type": "stream",
          "name": "stdout",
          "text": [
            "El número no es par\n"
          ]
        }
      ]
    },
    {
      "cell_type": "code",
      "source": [],
      "metadata": {
        "id": "crM_wZEgahC-"
      },
      "execution_count": null,
      "outputs": []
    }
  ]
}