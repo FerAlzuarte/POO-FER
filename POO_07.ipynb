{
  "nbformat": 4,
  "nbformat_minor": 0,
  "metadata": {
    "colab": {
      "provenance": []
    },
    "kernelspec": {
      "name": "python3",
      "display_name": "Python 3"
    },
    "language_info": {
      "name": "python"
    }
  },
  "cells": [
    {
      "cell_type": "code",
      "execution_count": null,
      "metadata": {
        "colab": {
          "base_uri": "https://localhost:8080/"
        },
        "id": "cZQ6ZtdvcLFS",
        "outputId": "1d5c82a9-1a32-4f9d-c8fa-f9aec3146715"
      },
      "outputs": [
        {
          "output_type": "stream",
          "name": "stdout",
          "text": [
            "La letra es A\n"
          ]
        }
      ],
      "source": [
        "letra = \"A\"\n",
        "if letra == \"B\":\n",
        "  print (\"La letra es B\")\n",
        "elif letra ==\"C\":\n",
        "  print(\"La letra es C\")\n",
        "elif letra ==\"A\":\n",
        "  print(\"La letra es A\")\n",
        "else:\n",
        " print(\"La letra no es A ni B ni C\")\n"
      ]
    },
    {
      "cell_type": "code",
      "source": [
        "##Ejemplo 2\n",
        "numero =int(input(\"Escribe un numero\"))\n"
      ],
      "metadata": {
        "colab": {
          "base_uri": "https://localhost:8080/"
        },
        "id": "IF-UASWJcUx0",
        "outputId": "e50e628d-3b86-40b2-c3b4-997e2a45d161"
      },
      "execution_count": null,
      "outputs": [
        {
          "name": "stdout",
          "output_type": "stream",
          "text": [
            "Escribe un numero35\n"
          ]
        }
      ]
    },
    {
      "cell_type": "code",
      "source": [
        "if numero%2==0 and numero %4 !=0:\n",
        "  print(f\"{numero}es multiplo de 2\")\n",
        "elif numero %4== 0:\n",
        "  print(f\"{numero}es multiplo de 2 y de 4\")\n",
        "else:\n",
        "  print(f\"{numero}no es es multiplo de 2\")"
      ],
      "metadata": {
        "colab": {
          "base_uri": "https://localhost:8080/"
        },
        "id": "LGJUeRFEeErO",
        "outputId": "95e90691-d356-4f8e-ef5d-dcf91e546e59"
      },
      "execution_count": null,
      "outputs": [
        {
          "output_type": "stream",
          "name": "stdout",
          "text": [
            "35no es es multiplo de 2\n"
          ]
        }
      ]
    },
    {
      "cell_type": "code",
      "source": [
        "numero =int(input(\"Escribe el numero de goles de tu idolo\"))\n",
        "if numero>818:\n",
        "  print(f\"Con {numero} goles tu idolo es el bicho\")\n",
        "elif numero < 818:\n",
        "  print(f\"Con {numero} goles tu idolo es péor que Messi\")\n",
        "else:\n",
        "  print(f\"Con {numero} goles tu idolo es Messi\")"
      ],
      "metadata": {
        "colab": {
          "base_uri": "https://localhost:8080/"
        },
        "id": "xOvO1qGVeWyL",
        "outputId": "f0dd095c-29dc-46b9-d8cd-53c0330c52e7"
      },
      "execution_count": null,
      "outputs": [
        {
          "output_type": "stream",
          "name": "stdout",
          "text": [
            "Escribe el numero de goles de tu idolo1000\n",
            "Con 1000 goles tu idolo es el bicho\n"
          ]
        }
      ]
    },
    {
      "cell_type": "markdown",
      "source": [
        "### Clases y polimorfismos"
      ],
      "metadata": {
        "id": "LYTCeVwom369"
      }
    },
    {
      "cell_type": "code",
      "source": [
        "class mascota:\n",
        "  def hable(self):\n",
        "    return NotImplementedError\n",
        "class Perro(mascota):\n",
        "  def hable(self):\n",
        "    return \"Woof\"\n",
        "class Gato(mascota):\n",
        "  def hable(self):\n",
        "    return \"Miau\"\n",
        "class Pato(mascota):\n",
        "  def hable(self):\n",
        "    return \"Quack\"\n",
        "class Vaca(mascota):\n",
        "  def hable(self):\n",
        "    return \"Muuuuuuuuu\""
      ],
      "metadata": {
        "id": "mpGTFI2sm9oR"
      },
      "execution_count": null,
      "outputs": []
    },
    {
      "cell_type": "code",
      "source": [
        "#Vamos a crear una lista de Mascotas\n",
        "mascotas=[Perro(), Gato(), Pato(), Vaca()]"
      ],
      "metadata": {
        "id": "EBF9IeHIijh8"
      },
      "execution_count": null,
      "outputs": []
    },
    {
      "cell_type": "code",
      "source": [
        "mascotas"
      ],
      "metadata": {
        "colab": {
          "base_uri": "https://localhost:8080/"
        },
        "id": "0S4tOyq4ohdM",
        "outputId": "34dc9f60-ce52-43eb-8d66-fff1922fc22d"
      },
      "execution_count": null,
      "outputs": [
        {
          "output_type": "execute_result",
          "data": {
            "text/plain": [
              "[<__main__.Perro at 0x792d8dbd1630>,\n",
              " <__main__.Gato at 0x792d5b8af1c0>,\n",
              " <__main__.Pato at 0x792d5b8afbb0>,\n",
              " <__main__.Vaca at 0x792d5b8ae710>]"
            ]
          },
          "metadata": {},
          "execution_count": 34
        }
      ]
    },
    {
      "cell_type": "code",
      "source": [
        "for mascota in mascotas:\n",
        "  print(mascota.hable())"
      ],
      "metadata": {
        "colab": {
          "base_uri": "https://localhost:8080/"
        },
        "id": "7K3vEjhkoiIf",
        "outputId": "2e063a53-a8ea-4fb7-df3d-d6d52de0a7a0"
      },
      "execution_count": null,
      "outputs": [
        {
          "output_type": "stream",
          "name": "stdout",
          "text": [
            "Woof\n",
            "Miau\n",
            "Quack\n",
            "Muuuuuuuuu\n"
          ]
        }
      ]
    },
    {
      "cell_type": "code",
      "source": [
        "class Persona:\n",
        "  def __init__(self, nombre, edad):\n",
        "    self.nombre= nombre\n",
        "    self.edad= edad\n"
      ],
      "metadata": {
        "id": "Qsdxj_rnpuUr"
      },
      "execution_count": null,
      "outputs": []
    },
    {
      "cell_type": "code",
      "source": [
        "Daniela = Persona(\"Daniela\",21)"
      ],
      "metadata": {
        "id": "o3hTEbsbrP3p"
      },
      "execution_count": null,
      "outputs": []
    },
    {
      "cell_type": "code",
      "source": [],
      "metadata": {
        "id": "xd6AQRjLsa4c"
      },
      "execution_count": null,
      "outputs": []
    },
    {
      "cell_type": "code",
      "source": [
        "Daniela.nombre"
      ],
      "metadata": {
        "colab": {
          "base_uri": "https://localhost:8080/",
          "height": 35
        },
        "id": "dPz8lt02rob7",
        "outputId": "9fdfa7d1-67b9-4498-9a28-9566163b2100"
      },
      "execution_count": null,
      "outputs": [
        {
          "output_type": "execute_result",
          "data": {
            "text/plain": [
              "'Daniela'"
            ],
            "application/vnd.google.colaboratory.intrinsic+json": {
              "type": "string"
            }
          },
          "metadata": {},
          "execution_count": 46
        }
      ]
    },
    {
      "cell_type": "code",
      "source": [],
      "metadata": {
        "id": "rPB2pgJXrq45"
      },
      "execution_count": null,
      "outputs": []
    }
  ]
}